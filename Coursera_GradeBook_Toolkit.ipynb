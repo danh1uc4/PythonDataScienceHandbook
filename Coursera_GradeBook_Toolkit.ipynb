{
  "cells": [
    {
      "cell_type": "markdown",
      "metadata": {
        "id": "view-in-github",
        "colab_type": "text"
      },
      "source": [
        "<a href=\"https://colab.research.google.com/github/danh1uc4/PythonDataScienceHandbook/blob/master/Coursera_GradeBook_Toolkit.ipynb\" target=\"_parent\"><img src=\"https://colab.research.google.com/assets/colab-badge.svg\" alt=\"Open In Colab\"/></a>"
      ]
    },
    {
      "cell_type": "markdown",
      "metadata": {
        "id": "XzK3KPLWtFVG"
      },
      "source": [
        "# RUN FIRST (PACKAGE IMPORTS)"
      ]
    },
    {
      "cell_type": "code",
      "execution_count": null,
      "metadata": {
        "id": "MQC_AYqoM29W"
      },
      "outputs": [],
      "source": [
        "import csv\n",
        "import zipfile\n",
        "import pandas as pd\n",
        "import numpy as np\n",
        "from google.colab import files\n",
        "\n",
        "\n",
        "import gspread\n",
        "from google.auth import default\n",
        "from google.colab import auth\n"
      ]
    },
    {
      "cell_type": "markdown",
      "metadata": {
        "id": "tIfCs-3utNol"
      },
      "source": [
        "# MOOC Grades\n"
      ]
    },
    {
      "cell_type": "markdown",
      "metadata": {
        "id": "YzWrR08Cj4PV"
      },
      "source": [
        "## **1. Enter the number of MOOCs.**"
      ]
    },
    {
      "cell_type": "markdown",
      "metadata": {
        "id": "-RxAkJB5kOiC"
      },
      "source": [
        "* If you are only uploading MOOC 1 or the course only has one MOOC, enter 1.\n",
        "* To upload both MOOCs, change the number to 2."
      ]
    },
    {
      "cell_type": "code",
      "execution_count": null,
      "metadata": {
        "id": "sOFC4CALjzno"
      },
      "outputs": [],
      "source": [
        "MOOC_Number = 1"
      ]
    },
    {
      "cell_type": "markdown",
      "metadata": {
        "id": "Kq6yghBztWFx"
      },
      "source": [
        "## **2.   Download the gradebook from Canvas and upload the file below.**"
      ]
    },
    {
      "cell_type": "code",
      "execution_count": null,
      "metadata": {
        "id": "RieIZdKXMZLE",
        "colab": {
          "base_uri": "https://localhost:8080/",
          "height": 74
        },
        "outputId": "b712c9b8-2351-49a2-e901-c898640d513a"
      },
      "outputs": [
        {
          "output_type": "display_data",
          "data": {
            "text/plain": [
              "<IPython.core.display.HTML object>"
            ],
            "text/html": [
              "\n",
              "     <input type=\"file\" id=\"files-4caff7a3-7290-4c7a-ab7e-dde1ff77a6b0\" name=\"files[]\" multiple disabled\n",
              "        style=\"border:none\" />\n",
              "     <output id=\"result-4caff7a3-7290-4c7a-ab7e-dde1ff77a6b0\">\n",
              "      Upload widget is only available when the cell has been executed in the\n",
              "      current browser session. Please rerun this cell to enable.\n",
              "      </output>\n",
              "      <script>// Copyright 2017 Google LLC\n",
              "//\n",
              "// Licensed under the Apache License, Version 2.0 (the \"License\");\n",
              "// you may not use this file except in compliance with the License.\n",
              "// You may obtain a copy of the License at\n",
              "//\n",
              "//      http://www.apache.org/licenses/LICENSE-2.0\n",
              "//\n",
              "// Unless required by applicable law or agreed to in writing, software\n",
              "// distributed under the License is distributed on an \"AS IS\" BASIS,\n",
              "// WITHOUT WARRANTIES OR CONDITIONS OF ANY KIND, either express or implied.\n",
              "// See the License for the specific language governing permissions and\n",
              "// limitations under the License.\n",
              "\n",
              "/**\n",
              " * @fileoverview Helpers for google.colab Python module.\n",
              " */\n",
              "(function(scope) {\n",
              "function span(text, styleAttributes = {}) {\n",
              "  const element = document.createElement('span');\n",
              "  element.textContent = text;\n",
              "  for (const key of Object.keys(styleAttributes)) {\n",
              "    element.style[key] = styleAttributes[key];\n",
              "  }\n",
              "  return element;\n",
              "}\n",
              "\n",
              "// Max number of bytes which will be uploaded at a time.\n",
              "const MAX_PAYLOAD_SIZE = 100 * 1024;\n",
              "\n",
              "function _uploadFiles(inputId, outputId) {\n",
              "  const steps = uploadFilesStep(inputId, outputId);\n",
              "  const outputElement = document.getElementById(outputId);\n",
              "  // Cache steps on the outputElement to make it available for the next call\n",
              "  // to uploadFilesContinue from Python.\n",
              "  outputElement.steps = steps;\n",
              "\n",
              "  return _uploadFilesContinue(outputId);\n",
              "}\n",
              "\n",
              "// This is roughly an async generator (not supported in the browser yet),\n",
              "// where there are multiple asynchronous steps and the Python side is going\n",
              "// to poll for completion of each step.\n",
              "// This uses a Promise to block the python side on completion of each step,\n",
              "// then passes the result of the previous step as the input to the next step.\n",
              "function _uploadFilesContinue(outputId) {\n",
              "  const outputElement = document.getElementById(outputId);\n",
              "  const steps = outputElement.steps;\n",
              "\n",
              "  const next = steps.next(outputElement.lastPromiseValue);\n",
              "  return Promise.resolve(next.value.promise).then((value) => {\n",
              "    // Cache the last promise value to make it available to the next\n",
              "    // step of the generator.\n",
              "    outputElement.lastPromiseValue = value;\n",
              "    return next.value.response;\n",
              "  });\n",
              "}\n",
              "\n",
              "/**\n",
              " * Generator function which is called between each async step of the upload\n",
              " * process.\n",
              " * @param {string} inputId Element ID of the input file picker element.\n",
              " * @param {string} outputId Element ID of the output display.\n",
              " * @return {!Iterable<!Object>} Iterable of next steps.\n",
              " */\n",
              "function* uploadFilesStep(inputId, outputId) {\n",
              "  const inputElement = document.getElementById(inputId);\n",
              "  inputElement.disabled = false;\n",
              "\n",
              "  const outputElement = document.getElementById(outputId);\n",
              "  outputElement.innerHTML = '';\n",
              "\n",
              "  const pickedPromise = new Promise((resolve) => {\n",
              "    inputElement.addEventListener('change', (e) => {\n",
              "      resolve(e.target.files);\n",
              "    });\n",
              "  });\n",
              "\n",
              "  const cancel = document.createElement('button');\n",
              "  inputElement.parentElement.appendChild(cancel);\n",
              "  cancel.textContent = 'Cancel upload';\n",
              "  const cancelPromise = new Promise((resolve) => {\n",
              "    cancel.onclick = () => {\n",
              "      resolve(null);\n",
              "    };\n",
              "  });\n",
              "\n",
              "  // Wait for the user to pick the files.\n",
              "  const files = yield {\n",
              "    promise: Promise.race([pickedPromise, cancelPromise]),\n",
              "    response: {\n",
              "      action: 'starting',\n",
              "    }\n",
              "  };\n",
              "\n",
              "  cancel.remove();\n",
              "\n",
              "  // Disable the input element since further picks are not allowed.\n",
              "  inputElement.disabled = true;\n",
              "\n",
              "  if (!files) {\n",
              "    return {\n",
              "      response: {\n",
              "        action: 'complete',\n",
              "      }\n",
              "    };\n",
              "  }\n",
              "\n",
              "  for (const file of files) {\n",
              "    const li = document.createElement('li');\n",
              "    li.append(span(file.name, {fontWeight: 'bold'}));\n",
              "    li.append(span(\n",
              "        `(${file.type || 'n/a'}) - ${file.size} bytes, ` +\n",
              "        `last modified: ${\n",
              "            file.lastModifiedDate ? file.lastModifiedDate.toLocaleDateString() :\n",
              "                                    'n/a'} - `));\n",
              "    const percent = span('0% done');\n",
              "    li.appendChild(percent);\n",
              "\n",
              "    outputElement.appendChild(li);\n",
              "\n",
              "    const fileDataPromise = new Promise((resolve) => {\n",
              "      const reader = new FileReader();\n",
              "      reader.onload = (e) => {\n",
              "        resolve(e.target.result);\n",
              "      };\n",
              "      reader.readAsArrayBuffer(file);\n",
              "    });\n",
              "    // Wait for the data to be ready.\n",
              "    let fileData = yield {\n",
              "      promise: fileDataPromise,\n",
              "      response: {\n",
              "        action: 'continue',\n",
              "      }\n",
              "    };\n",
              "\n",
              "    // Use a chunked sending to avoid message size limits. See b/62115660.\n",
              "    let position = 0;\n",
              "    do {\n",
              "      const length = Math.min(fileData.byteLength - position, MAX_PAYLOAD_SIZE);\n",
              "      const chunk = new Uint8Array(fileData, position, length);\n",
              "      position += length;\n",
              "\n",
              "      const base64 = btoa(String.fromCharCode.apply(null, chunk));\n",
              "      yield {\n",
              "        response: {\n",
              "          action: 'append',\n",
              "          file: file.name,\n",
              "          data: base64,\n",
              "        },\n",
              "      };\n",
              "\n",
              "      let percentDone = fileData.byteLength === 0 ?\n",
              "          100 :\n",
              "          Math.round((position / fileData.byteLength) * 100);\n",
              "      percent.textContent = `${percentDone}% done`;\n",
              "\n",
              "    } while (position < fileData.byteLength);\n",
              "  }\n",
              "\n",
              "  // All done.\n",
              "  yield {\n",
              "    response: {\n",
              "      action: 'complete',\n",
              "    }\n",
              "  };\n",
              "}\n",
              "\n",
              "scope.google = scope.google || {};\n",
              "scope.google.colab = scope.google.colab || {};\n",
              "scope.google.colab._files = {\n",
              "  _uploadFiles,\n",
              "  _uploadFilesContinue,\n",
              "};\n",
              "})(self);\n",
              "</script> "
            ]
          },
          "metadata": {}
        },
        {
          "output_type": "stream",
          "name": "stdout",
          "text": [
            "Saving 2025-09-08T2316_Grades-mba_549_120258_250174.csv to 2025-09-08T2316_Grades-mba_549_120258_250174 (1).csv\n"
          ]
        }
      ],
      "source": [
        "moocGradesCanvas_uploaded = files.upload()\n",
        "moocGradesCanvas_filename = list(moocGradesCanvas_uploaded.keys())[0]"
      ]
    },
    {
      "cell_type": "markdown",
      "metadata": {
        "id": "X9fY6tA-MZnu"
      },
      "source": [
        "## **3.   Export the gradebook from the private session on Coursera ([instruction](https://www.coursera.support/s/article/360023044471-Download-Gradebook-Exports-for-Groups-Private-Sessions-and-Degree-Programs?)) and Upload the gradebook file below. Please upload the zip file without extraction.**\n",
        "\n",
        "MOOC 1 (or only one MOOC):"
      ]
    },
    {
      "cell_type": "code",
      "execution_count": null,
      "metadata": {
        "id": "OZVKODbyN0RO",
        "colab": {
          "base_uri": "https://localhost:8080/",
          "height": 74
        },
        "outputId": "aefa7a0b-06fb-43c9-df15-0a955785de91"
      },
      "outputs": [
        {
          "output_type": "display_data",
          "data": {
            "text/plain": [
              "<IPython.core.display.HTML object>"
            ],
            "text/html": [
              "\n",
              "     <input type=\"file\" id=\"files-7f2e996a-959e-4a46-809e-d93176aa05d4\" name=\"files[]\" multiple disabled\n",
              "        style=\"border:none\" />\n",
              "     <output id=\"result-7f2e996a-959e-4a46-809e-d93176aa05d4\">\n",
              "      Upload widget is only available when the cell has been executed in the\n",
              "      current browser session. Please rerun this cell to enable.\n",
              "      </output>\n",
              "      <script>// Copyright 2017 Google LLC\n",
              "//\n",
              "// Licensed under the Apache License, Version 2.0 (the \"License\");\n",
              "// you may not use this file except in compliance with the License.\n",
              "// You may obtain a copy of the License at\n",
              "//\n",
              "//      http://www.apache.org/licenses/LICENSE-2.0\n",
              "//\n",
              "// Unless required by applicable law or agreed to in writing, software\n",
              "// distributed under the License is distributed on an \"AS IS\" BASIS,\n",
              "// WITHOUT WARRANTIES OR CONDITIONS OF ANY KIND, either express or implied.\n",
              "// See the License for the specific language governing permissions and\n",
              "// limitations under the License.\n",
              "\n",
              "/**\n",
              " * @fileoverview Helpers for google.colab Python module.\n",
              " */\n",
              "(function(scope) {\n",
              "function span(text, styleAttributes = {}) {\n",
              "  const element = document.createElement('span');\n",
              "  element.textContent = text;\n",
              "  for (const key of Object.keys(styleAttributes)) {\n",
              "    element.style[key] = styleAttributes[key];\n",
              "  }\n",
              "  return element;\n",
              "}\n",
              "\n",
              "// Max number of bytes which will be uploaded at a time.\n",
              "const MAX_PAYLOAD_SIZE = 100 * 1024;\n",
              "\n",
              "function _uploadFiles(inputId, outputId) {\n",
              "  const steps = uploadFilesStep(inputId, outputId);\n",
              "  const outputElement = document.getElementById(outputId);\n",
              "  // Cache steps on the outputElement to make it available for the next call\n",
              "  // to uploadFilesContinue from Python.\n",
              "  outputElement.steps = steps;\n",
              "\n",
              "  return _uploadFilesContinue(outputId);\n",
              "}\n",
              "\n",
              "// This is roughly an async generator (not supported in the browser yet),\n",
              "// where there are multiple asynchronous steps and the Python side is going\n",
              "// to poll for completion of each step.\n",
              "// This uses a Promise to block the python side on completion of each step,\n",
              "// then passes the result of the previous step as the input to the next step.\n",
              "function _uploadFilesContinue(outputId) {\n",
              "  const outputElement = document.getElementById(outputId);\n",
              "  const steps = outputElement.steps;\n",
              "\n",
              "  const next = steps.next(outputElement.lastPromiseValue);\n",
              "  return Promise.resolve(next.value.promise).then((value) => {\n",
              "    // Cache the last promise value to make it available to the next\n",
              "    // step of the generator.\n",
              "    outputElement.lastPromiseValue = value;\n",
              "    return next.value.response;\n",
              "  });\n",
              "}\n",
              "\n",
              "/**\n",
              " * Generator function which is called between each async step of the upload\n",
              " * process.\n",
              " * @param {string} inputId Element ID of the input file picker element.\n",
              " * @param {string} outputId Element ID of the output display.\n",
              " * @return {!Iterable<!Object>} Iterable of next steps.\n",
              " */\n",
              "function* uploadFilesStep(inputId, outputId) {\n",
              "  const inputElement = document.getElementById(inputId);\n",
              "  inputElement.disabled = false;\n",
              "\n",
              "  const outputElement = document.getElementById(outputId);\n",
              "  outputElement.innerHTML = '';\n",
              "\n",
              "  const pickedPromise = new Promise((resolve) => {\n",
              "    inputElement.addEventListener('change', (e) => {\n",
              "      resolve(e.target.files);\n",
              "    });\n",
              "  });\n",
              "\n",
              "  const cancel = document.createElement('button');\n",
              "  inputElement.parentElement.appendChild(cancel);\n",
              "  cancel.textContent = 'Cancel upload';\n",
              "  const cancelPromise = new Promise((resolve) => {\n",
              "    cancel.onclick = () => {\n",
              "      resolve(null);\n",
              "    };\n",
              "  });\n",
              "\n",
              "  // Wait for the user to pick the files.\n",
              "  const files = yield {\n",
              "    promise: Promise.race([pickedPromise, cancelPromise]),\n",
              "    response: {\n",
              "      action: 'starting',\n",
              "    }\n",
              "  };\n",
              "\n",
              "  cancel.remove();\n",
              "\n",
              "  // Disable the input element since further picks are not allowed.\n",
              "  inputElement.disabled = true;\n",
              "\n",
              "  if (!files) {\n",
              "    return {\n",
              "      response: {\n",
              "        action: 'complete',\n",
              "      }\n",
              "    };\n",
              "  }\n",
              "\n",
              "  for (const file of files) {\n",
              "    const li = document.createElement('li');\n",
              "    li.append(span(file.name, {fontWeight: 'bold'}));\n",
              "    li.append(span(\n",
              "        `(${file.type || 'n/a'}) - ${file.size} bytes, ` +\n",
              "        `last modified: ${\n",
              "            file.lastModifiedDate ? file.lastModifiedDate.toLocaleDateString() :\n",
              "                                    'n/a'} - `));\n",
              "    const percent = span('0% done');\n",
              "    li.appendChild(percent);\n",
              "\n",
              "    outputElement.appendChild(li);\n",
              "\n",
              "    const fileDataPromise = new Promise((resolve) => {\n",
              "      const reader = new FileReader();\n",
              "      reader.onload = (e) => {\n",
              "        resolve(e.target.result);\n",
              "      };\n",
              "      reader.readAsArrayBuffer(file);\n",
              "    });\n",
              "    // Wait for the data to be ready.\n",
              "    let fileData = yield {\n",
              "      promise: fileDataPromise,\n",
              "      response: {\n",
              "        action: 'continue',\n",
              "      }\n",
              "    };\n",
              "\n",
              "    // Use a chunked sending to avoid message size limits. See b/62115660.\n",
              "    let position = 0;\n",
              "    do {\n",
              "      const length = Math.min(fileData.byteLength - position, MAX_PAYLOAD_SIZE);\n",
              "      const chunk = new Uint8Array(fileData, position, length);\n",
              "      position += length;\n",
              "\n",
              "      const base64 = btoa(String.fromCharCode.apply(null, chunk));\n",
              "      yield {\n",
              "        response: {\n",
              "          action: 'append',\n",
              "          file: file.name,\n",
              "          data: base64,\n",
              "        },\n",
              "      };\n",
              "\n",
              "      let percentDone = fileData.byteLength === 0 ?\n",
              "          100 :\n",
              "          Math.round((position / fileData.byteLength) * 100);\n",
              "      percent.textContent = `${percentDone}% done`;\n",
              "\n",
              "    } while (position < fileData.byteLength);\n",
              "  }\n",
              "\n",
              "  // All done.\n",
              "  yield {\n",
              "    response: {\n",
              "      action: 'complete',\n",
              "    }\n",
              "  };\n",
              "}\n",
              "\n",
              "scope.google = scope.google || {};\n",
              "scope.google.colab = scope.google.colab || {};\n",
              "scope.google.colab._files = {\n",
              "  _uploadFiles,\n",
              "  _uploadFilesContinue,\n",
              "};\n",
              "})(self);\n",
              "</script> "
            ]
          },
          "metadata": {}
        },
        {
          "output_type": "stream",
          "name": "stdout",
          "text": [
            "Saving global_impact_cross_cultural_management_9amab_1757391574368.zip to global_impact_cross_cultural_management_9amab_1757391574368 (1).zip\n"
          ]
        }
      ],
      "source": [
        "moocGradesMOOC_uploaded = files.upload()\n",
        "moocGradesMOOC_filename = list(moocGradesMOOC_uploaded.keys())[0]"
      ]
    },
    {
      "cell_type": "markdown",
      "metadata": {
        "id": "LzY5HdFFkuP9"
      },
      "source": [
        "MOOC 2 (optional)"
      ]
    },
    {
      "cell_type": "code",
      "execution_count": null,
      "metadata": {
        "id": "aCiKgPWSkx-_",
        "colab": {
          "base_uri": "https://localhost:8080/",
          "height": 184
        },
        "outputId": "06694c46-f002-4648-f4bd-407d078976b6"
      },
      "outputs": [
        {
          "output_type": "display_data",
          "data": {
            "text/plain": [
              "<IPython.core.display.HTML object>"
            ],
            "text/html": [
              "\n",
              "     <input type=\"file\" id=\"files-8be5c7e0-3a23-4374-82a6-ac7692081283\" name=\"files[]\" multiple disabled\n",
              "        style=\"border:none\" />\n",
              "     <output id=\"result-8be5c7e0-3a23-4374-82a6-ac7692081283\">\n",
              "      Upload widget is only available when the cell has been executed in the\n",
              "      current browser session. Please rerun this cell to enable.\n",
              "      </output>\n",
              "      <script>// Copyright 2017 Google LLC\n",
              "//\n",
              "// Licensed under the Apache License, Version 2.0 (the \"License\");\n",
              "// you may not use this file except in compliance with the License.\n",
              "// You may obtain a copy of the License at\n",
              "//\n",
              "//      http://www.apache.org/licenses/LICENSE-2.0\n",
              "//\n",
              "// Unless required by applicable law or agreed to in writing, software\n",
              "// distributed under the License is distributed on an \"AS IS\" BASIS,\n",
              "// WITHOUT WARRANTIES OR CONDITIONS OF ANY KIND, either express or implied.\n",
              "// See the License for the specific language governing permissions and\n",
              "// limitations under the License.\n",
              "\n",
              "/**\n",
              " * @fileoverview Helpers for google.colab Python module.\n",
              " */\n",
              "(function(scope) {\n",
              "function span(text, styleAttributes = {}) {\n",
              "  const element = document.createElement('span');\n",
              "  element.textContent = text;\n",
              "  for (const key of Object.keys(styleAttributes)) {\n",
              "    element.style[key] = styleAttributes[key];\n",
              "  }\n",
              "  return element;\n",
              "}\n",
              "\n",
              "// Max number of bytes which will be uploaded at a time.\n",
              "const MAX_PAYLOAD_SIZE = 100 * 1024;\n",
              "\n",
              "function _uploadFiles(inputId, outputId) {\n",
              "  const steps = uploadFilesStep(inputId, outputId);\n",
              "  const outputElement = document.getElementById(outputId);\n",
              "  // Cache steps on the outputElement to make it available for the next call\n",
              "  // to uploadFilesContinue from Python.\n",
              "  outputElement.steps = steps;\n",
              "\n",
              "  return _uploadFilesContinue(outputId);\n",
              "}\n",
              "\n",
              "// This is roughly an async generator (not supported in the browser yet),\n",
              "// where there are multiple asynchronous steps and the Python side is going\n",
              "// to poll for completion of each step.\n",
              "// This uses a Promise to block the python side on completion of each step,\n",
              "// then passes the result of the previous step as the input to the next step.\n",
              "function _uploadFilesContinue(outputId) {\n",
              "  const outputElement = document.getElementById(outputId);\n",
              "  const steps = outputElement.steps;\n",
              "\n",
              "  const next = steps.next(outputElement.lastPromiseValue);\n",
              "  return Promise.resolve(next.value.promise).then((value) => {\n",
              "    // Cache the last promise value to make it available to the next\n",
              "    // step of the generator.\n",
              "    outputElement.lastPromiseValue = value;\n",
              "    return next.value.response;\n",
              "  });\n",
              "}\n",
              "\n",
              "/**\n",
              " * Generator function which is called between each async step of the upload\n",
              " * process.\n",
              " * @param {string} inputId Element ID of the input file picker element.\n",
              " * @param {string} outputId Element ID of the output display.\n",
              " * @return {!Iterable<!Object>} Iterable of next steps.\n",
              " */\n",
              "function* uploadFilesStep(inputId, outputId) {\n",
              "  const inputElement = document.getElementById(inputId);\n",
              "  inputElement.disabled = false;\n",
              "\n",
              "  const outputElement = document.getElementById(outputId);\n",
              "  outputElement.innerHTML = '';\n",
              "\n",
              "  const pickedPromise = new Promise((resolve) => {\n",
              "    inputElement.addEventListener('change', (e) => {\n",
              "      resolve(e.target.files);\n",
              "    });\n",
              "  });\n",
              "\n",
              "  const cancel = document.createElement('button');\n",
              "  inputElement.parentElement.appendChild(cancel);\n",
              "  cancel.textContent = 'Cancel upload';\n",
              "  const cancelPromise = new Promise((resolve) => {\n",
              "    cancel.onclick = () => {\n",
              "      resolve(null);\n",
              "    };\n",
              "  });\n",
              "\n",
              "  // Wait for the user to pick the files.\n",
              "  const files = yield {\n",
              "    promise: Promise.race([pickedPromise, cancelPromise]),\n",
              "    response: {\n",
              "      action: 'starting',\n",
              "    }\n",
              "  };\n",
              "\n",
              "  cancel.remove();\n",
              "\n",
              "  // Disable the input element since further picks are not allowed.\n",
              "  inputElement.disabled = true;\n",
              "\n",
              "  if (!files) {\n",
              "    return {\n",
              "      response: {\n",
              "        action: 'complete',\n",
              "      }\n",
              "    };\n",
              "  }\n",
              "\n",
              "  for (const file of files) {\n",
              "    const li = document.createElement('li');\n",
              "    li.append(span(file.name, {fontWeight: 'bold'}));\n",
              "    li.append(span(\n",
              "        `(${file.type || 'n/a'}) - ${file.size} bytes, ` +\n",
              "        `last modified: ${\n",
              "            file.lastModifiedDate ? file.lastModifiedDate.toLocaleDateString() :\n",
              "                                    'n/a'} - `));\n",
              "    const percent = span('0% done');\n",
              "    li.appendChild(percent);\n",
              "\n",
              "    outputElement.appendChild(li);\n",
              "\n",
              "    const fileDataPromise = new Promise((resolve) => {\n",
              "      const reader = new FileReader();\n",
              "      reader.onload = (e) => {\n",
              "        resolve(e.target.result);\n",
              "      };\n",
              "      reader.readAsArrayBuffer(file);\n",
              "    });\n",
              "    // Wait for the data to be ready.\n",
              "    let fileData = yield {\n",
              "      promise: fileDataPromise,\n",
              "      response: {\n",
              "        action: 'continue',\n",
              "      }\n",
              "    };\n",
              "\n",
              "    // Use a chunked sending to avoid message size limits. See b/62115660.\n",
              "    let position = 0;\n",
              "    do {\n",
              "      const length = Math.min(fileData.byteLength - position, MAX_PAYLOAD_SIZE);\n",
              "      const chunk = new Uint8Array(fileData, position, length);\n",
              "      position += length;\n",
              "\n",
              "      const base64 = btoa(String.fromCharCode.apply(null, chunk));\n",
              "      yield {\n",
              "        response: {\n",
              "          action: 'append',\n",
              "          file: file.name,\n",
              "          data: base64,\n",
              "        },\n",
              "      };\n",
              "\n",
              "      let percentDone = fileData.byteLength === 0 ?\n",
              "          100 :\n",
              "          Math.round((position / fileData.byteLength) * 100);\n",
              "      percent.textContent = `${percentDone}% done`;\n",
              "\n",
              "    } while (position < fileData.byteLength);\n",
              "  }\n",
              "\n",
              "  // All done.\n",
              "  yield {\n",
              "    response: {\n",
              "      action: 'complete',\n",
              "    }\n",
              "  };\n",
              "}\n",
              "\n",
              "scope.google = scope.google || {};\n",
              "scope.google.colab = scope.google.colab || {};\n",
              "scope.google.colab._files = {\n",
              "  _uploadFiles,\n",
              "  _uploadFilesContinue,\n",
              "};\n",
              "})(self);\n",
              "</script> "
            ]
          },
          "metadata": {}
        },
        {
          "output_type": "error",
          "ename": "IndexError",
          "evalue": "list index out of range",
          "traceback": [
            "\u001b[0;31m---------------------------------------------------------------------------\u001b[0m",
            "\u001b[0;31mIndexError\u001b[0m                                Traceback (most recent call last)",
            "\u001b[0;32m/tmp/ipython-input-1435059699.py\u001b[0m in \u001b[0;36m<cell line: 0>\u001b[0;34m()\u001b[0m\n\u001b[1;32m      1\u001b[0m \u001b[0mmooc2GradesMOOC_uploaded\u001b[0m \u001b[0;34m=\u001b[0m \u001b[0mfiles\u001b[0m\u001b[0;34m.\u001b[0m\u001b[0mupload\u001b[0m\u001b[0;34m(\u001b[0m\u001b[0;34m)\u001b[0m\u001b[0;34m\u001b[0m\u001b[0;34m\u001b[0m\u001b[0m\n\u001b[0;32m----> 2\u001b[0;31m \u001b[0mmooc2GradesMOOC_filename\u001b[0m \u001b[0;34m=\u001b[0m \u001b[0mlist\u001b[0m\u001b[0;34m(\u001b[0m\u001b[0mmooc2GradesMOOC_uploaded\u001b[0m\u001b[0;34m.\u001b[0m\u001b[0mkeys\u001b[0m\u001b[0;34m(\u001b[0m\u001b[0;34m)\u001b[0m\u001b[0;34m)\u001b[0m\u001b[0;34m[\u001b[0m\u001b[0;36m0\u001b[0m\u001b[0;34m]\u001b[0m\u001b[0;34m\u001b[0m\u001b[0;34m\u001b[0m\u001b[0m\n\u001b[0m",
            "\u001b[0;31mIndexError\u001b[0m: list index out of range"
          ]
        }
      ],
      "source": [
        "mooc2GradesMOOC_uploaded = files.upload()\n",
        "mooc2GradesMOOC_filename = list(mooc2GradesMOOC_uploaded.keys())[0]"
      ]
    },
    {
      "cell_type": "markdown",
      "metadata": {
        "id": "j85n5nArN-xt"
      },
      "source": [
        "## **4. Run the below code.**"
      ]
    },
    {
      "cell_type": "code",
      "execution_count": null,
      "metadata": {
        "id": "QL4kW49uRuuo",
        "colab": {
          "base_uri": "https://localhost:8080/",
          "height": 17
        },
        "outputId": "03a2b059-14de-4ca7-b278-25b9a5ff8f9c"
      },
      "outputs": [
        {
          "output_type": "display_data",
          "data": {
            "text/plain": [
              "<IPython.core.display.Javascript object>"
            ],
            "application/javascript": [
              "\n",
              "    async function download(id, filename, size) {\n",
              "      if (!google.colab.kernel.accessAllowed) {\n",
              "        return;\n",
              "      }\n",
              "      const div = document.createElement('div');\n",
              "      const label = document.createElement('label');\n",
              "      label.textContent = `Downloading \"${filename}\": `;\n",
              "      div.appendChild(label);\n",
              "      const progress = document.createElement('progress');\n",
              "      progress.max = size;\n",
              "      div.appendChild(progress);\n",
              "      document.body.appendChild(div);\n",
              "\n",
              "      const buffers = [];\n",
              "      let downloaded = 0;\n",
              "\n",
              "      const channel = await google.colab.kernel.comms.open(id);\n",
              "      // Send a message to notify the kernel that we're ready.\n",
              "      channel.send({})\n",
              "\n",
              "      for await (const message of channel.messages) {\n",
              "        // Send a message to notify the kernel that we're ready.\n",
              "        channel.send({})\n",
              "        if (message.buffers) {\n",
              "          for (const buffer of message.buffers) {\n",
              "            buffers.push(buffer);\n",
              "            downloaded += buffer.byteLength;\n",
              "            progress.value = downloaded;\n",
              "          }\n",
              "        }\n",
              "      }\n",
              "      const blob = new Blob(buffers, {type: 'application/binary'});\n",
              "      const a = document.createElement('a');\n",
              "      a.href = window.URL.createObjectURL(blob);\n",
              "      a.download = filename;\n",
              "      div.appendChild(a);\n",
              "      a.click();\n",
              "      div.remove();\n",
              "    }\n",
              "  "
            ]
          },
          "metadata": {}
        },
        {
          "output_type": "display_data",
          "data": {
            "text/plain": [
              "<IPython.core.display.Javascript object>"
            ],
            "application/javascript": [
              "download(\"download_233e750a-4f23-48b5-850a-681464275371\", \"out.csv\", 38435)"
            ]
          },
          "metadata": {}
        },
        {
          "output_type": "display_data",
          "data": {
            "text/plain": [
              "<IPython.core.display.Javascript object>"
            ],
            "application/javascript": [
              "\n",
              "    async function download(id, filename, size) {\n",
              "      if (!google.colab.kernel.accessAllowed) {\n",
              "        return;\n",
              "      }\n",
              "      const div = document.createElement('div');\n",
              "      const label = document.createElement('label');\n",
              "      label.textContent = `Downloading \"${filename}\": `;\n",
              "      div.appendChild(label);\n",
              "      const progress = document.createElement('progress');\n",
              "      progress.max = size;\n",
              "      div.appendChild(progress);\n",
              "      document.body.appendChild(div);\n",
              "\n",
              "      const buffers = [];\n",
              "      let downloaded = 0;\n",
              "\n",
              "      const channel = await google.colab.kernel.comms.open(id);\n",
              "      // Send a message to notify the kernel that we're ready.\n",
              "      channel.send({})\n",
              "\n",
              "      for await (const message of channel.messages) {\n",
              "        // Send a message to notify the kernel that we're ready.\n",
              "        channel.send({})\n",
              "        if (message.buffers) {\n",
              "          for (const buffer of message.buffers) {\n",
              "            buffers.push(buffer);\n",
              "            downloaded += buffer.byteLength;\n",
              "            progress.value = downloaded;\n",
              "          }\n",
              "        }\n",
              "      }\n",
              "      const blob = new Blob(buffers, {type: 'application/binary'});\n",
              "      const a = document.createElement('a');\n",
              "      a.href = window.URL.createObjectURL(blob);\n",
              "      a.download = filename;\n",
              "      div.appendChild(a);\n",
              "      a.click();\n",
              "      div.remove();\n",
              "    }\n",
              "  "
            ]
          },
          "metadata": {}
        },
        {
          "output_type": "display_data",
          "data": {
            "text/plain": [
              "<IPython.core.display.Javascript object>"
            ],
            "application/javascript": [
              "download(\"download_e0ba60f7-33b5-412c-8772-0ef9efd6a057\", \"missing_account.csv\", 94)"
            ]
          },
          "metadata": {}
        },
        {
          "output_type": "display_data",
          "data": {
            "text/plain": [
              "<IPython.core.display.Javascript object>"
            ],
            "application/javascript": [
              "\n",
              "    async function download(id, filename, size) {\n",
              "      if (!google.colab.kernel.accessAllowed) {\n",
              "        return;\n",
              "      }\n",
              "      const div = document.createElement('div');\n",
              "      const label = document.createElement('label');\n",
              "      label.textContent = `Downloading \"${filename}\": `;\n",
              "      div.appendChild(label);\n",
              "      const progress = document.createElement('progress');\n",
              "      progress.max = size;\n",
              "      div.appendChild(progress);\n",
              "      document.body.appendChild(div);\n",
              "\n",
              "      const buffers = [];\n",
              "      let downloaded = 0;\n",
              "\n",
              "      const channel = await google.colab.kernel.comms.open(id);\n",
              "      // Send a message to notify the kernel that we're ready.\n",
              "      channel.send({})\n",
              "\n",
              "      for await (const message of channel.messages) {\n",
              "        // Send a message to notify the kernel that we're ready.\n",
              "        channel.send({})\n",
              "        if (message.buffers) {\n",
              "          for (const buffer of message.buffers) {\n",
              "            buffers.push(buffer);\n",
              "            downloaded += buffer.byteLength;\n",
              "            progress.value = downloaded;\n",
              "          }\n",
              "        }\n",
              "      }\n",
              "      const blob = new Blob(buffers, {type: 'application/binary'});\n",
              "      const a = document.createElement('a');\n",
              "      a.href = window.URL.createObjectURL(blob);\n",
              "      a.download = filename;\n",
              "      div.appendChild(a);\n",
              "      a.click();\n",
              "      div.remove();\n",
              "    }\n",
              "  "
            ]
          },
          "metadata": {}
        },
        {
          "output_type": "display_data",
          "data": {
            "text/plain": [
              "<IPython.core.display.Javascript object>"
            ],
            "application/javascript": [
              "download(\"download_f8ade5d0-ca91-4462-9c23-6201f80cf858\", \"passed_no_certificate.csv\", 64)"
            ]
          },
          "metadata": {}
        }
      ],
      "source": [
        "moocGradesCanvas = pd.read_csv(moocGradesCanvas_filename)\n",
        "columns_to_keep = moocGradesCanvas.columns[:6].tolist()\n",
        "columns_to_keep += [col for col in moocGradesCanvas.columns if \"Coursera MOOC\" in col]\n",
        "columns_to_keep = [col for col in columns_to_keep if moocGradesCanvas.loc[1,col]!=\"(read only)\"]\n",
        "if MOOC_Number != 2:\n",
        "  columns_to_keep = [col for col in columns_to_keep if \"Coursera MOOC 2\" not in col]\n",
        "moocGradesCanvas = moocGradesCanvas[columns_to_keep]\n",
        "\n",
        "columns_to_keep = [\"External Student ID\", \"Email\", \"Course Passed\", \"Completed with CC\"]\n",
        "\n",
        "\n",
        "with zipfile.ZipFile(moocGradesMOOC_filename, 'r') as zip_ref:\n",
        "    zip_ref.extractall()\n",
        "moocGradesMOOC = pd.read_csv(\"gradebook.csv\")\n",
        "moocGradesMOOC = moocGradesMOOC[columns_to_keep]\n",
        "moocGradesMOOC[\"NetId\"] = moocGradesMOOC[\"Email\"].str.split('@').str[0]\n",
        "\n",
        "if MOOC_Number == 2:\n",
        "  with zipfile.ZipFile(mooc2GradesMOOC_filename, 'r') as zip_ref:\n",
        "    zip_ref.extractall()\n",
        "  mooc2GradesMOOC = pd.read_csv(\"gradebook.csv\")\n",
        "  mooc2GradesMOOC = mooc2GradesMOOC[columns_to_keep]\n",
        "  mooc2GradesMOOC[\"NetId\"] = mooc2GradesMOOC[\"Email\"].str.split('@').str[0]\n",
        "\n",
        "for idx, row in moocGradesCanvas.iterrows():\n",
        "\n",
        "    user_id = row[\"Integration ID\"]\n",
        "    if user_id in moocGradesMOOC[\"External Student ID\"].values:\n",
        "        score = moocGradesMOOC.loc[moocGradesMOOC[\"External Student ID\"] == user_id, \"Completed with CC\"].values[0]\n",
        "        for col in moocGradesCanvas.columns:\n",
        "            if \"Coursera MOOC\" in col and \"Coursera MOOC 2\" not in col:\n",
        "                moocGradesCanvas.at[idx, col] = score\n",
        "        if MOOC_Number == 2:\n",
        "            if user_id in mooc2GradesMOOC[\"External Student ID\"].values:\n",
        "              score2 = mooc2GradesMOOC.loc[mooc2GradesMOOC[\"External Student ID\"] == user_id, \"Completed with CC\"].values\n",
        "              for col in moocGradesCanvas.columns:\n",
        "                if \"Coursera MOOC 2\" in col:\n",
        "                    moocGradesCanvas.at[idx, col] = score2\n",
        "            else:\n",
        "              for col in moocGradesCanvas.columns:\n",
        "                  if \"Coursera MOOC 2\" in col:\n",
        "                      moocGradesCanvas.at[idx, col] = np.nan\n",
        "\n",
        "moocGradesCanvas.to_csv('out.csv', index=False)\n",
        "files.download('out.csv')\n",
        "\n",
        "\n",
        "mooc_cols = [col for col in moocGradesCanvas.columns if \"Coursera MOOC\" in col]\n",
        "moocGradesCanvas[moocGradesCanvas[mooc_cols].isnull().any(axis=1)].to_csv(\"missing_account.csv\", index=False)\n",
        "files.download('missing_account.csv')\n",
        "\n",
        "condition = (moocGradesMOOC[\"Course Passed\"] == True) & (moocGradesMOOC[\"Completed with CC\"] == False)\n",
        "if MOOC_Number == 2:\n",
        "  for col in moocGradesCanvas.columns:\n",
        "    if \"Coursera MOOC 2\" in col:\n",
        "      condition2 = (mooc2GradesMOOC[\"Course Passed\"] == True) & (mooc2GradesMOOC[\"Completed with CC\"] == False)\n",
        "      condition = condition | condition2\n",
        "\n",
        "moocGradesMOOC[condition].to_csv(\"passed_no_certificate.csv\", index=False)\n",
        "files.download('passed_no_certificate.csv')"
      ]
    },
    {
      "cell_type": "markdown",
      "metadata": {
        "id": "iBLhPWf41NpN"
      },
      "source": [
        "# Group Roster Creation\n",
        "Test Files: [Group Roster from Canvas](https://drive.google.com/file/d/1TxguyieqguFrzc5enTpxTIBsf0kOJP2z/view?usp=sharing), [Group List from GGP](https://docs.google.com/spreadsheets/d/1M3TdTIejjDgvY2zBEked7-SRKzvPh3IE/edit?usp=sharing&ouid=109745297990275365576&rtpof=true&sd=true), [Test Roster page](https://canvas.illinois.edu/courses/41621/pages/roster-test/edit)."
      ]
    },
    {
      "cell_type": "markdown",
      "metadata": {
        "id": "LYBuJgezocnE"
      },
      "source": [
        "## **0. Enter the Course rubric**\n",
        "\n",
        "\n",
        "* Download the group list that GGP sent to the CM group.\n",
        "* Copy the course rubric as listed in the sheet name. Enter the rubric below.\n",
        "* Make sure the course rubric is enclosed in double quotes in the code chunk below (i.e. \"BADM 520\" instead of BADM 520).<img src='https://drive.google.com/uc?id=1WH0sEVmg_LluDGH1AFGuPmSLo0P8ozMc'>"
      ]
    },
    {
      "cell_type": "code",
      "execution_count": null,
      "metadata": {
        "id": "TZI6ala7pmfz"
      },
      "outputs": [],
      "source": [
        "courseRubric = \"ACCY 502\""
      ]
    },
    {
      "cell_type": "markdown",
      "metadata": {
        "id": "5P_RmupSqTxA"
      },
      "source": [
        "## **1. Upload the group list file received from GGP**"
      ]
    },
    {
      "cell_type": "code",
      "execution_count": null,
      "metadata": {
        "id": "aref2q_yqaPX"
      },
      "outputs": [],
      "source": [
        "groupList_uploaded = files.upload()\n",
        "groupList_filename = list(groupList_uploaded.keys())[0]"
      ]
    },
    {
      "cell_type": "markdown",
      "metadata": {
        "id": "Jk7Fk4Ijnlfj"
      },
      "source": [
        "## **2. Download group roster file from Canvas and upload the file**"
      ]
    },
    {
      "cell_type": "markdown",
      "metadata": {
        "id": "GOwhrz7hriB4"
      },
      "source": [
        "On Canvas, go to People -> Project Groups, and click \"+Import\". In the pop-up page, select \"Download Course Roster CSV\".<img src='https://drive.google.com/uc?id=1-QjYPEcatvFb7VxtyOsq3YKyhOjjsjkP'>"
      ]
    },
    {
      "cell_type": "code",
      "execution_count": null,
      "metadata": {
        "id": "NeP2NcTHlha8"
      },
      "outputs": [],
      "source": [
        "groupRosterCanvas_uploaded = files.upload()\n",
        "groupRosterCanvas_filename = list(groupRosterCanvas_uploaded.keys())[0]"
      ]
    },
    {
      "cell_type": "markdown",
      "metadata": {
        "id": "YRF2i1GIoNGX"
      },
      "source": [
        "## **3. Rund the code below to create group import file, group roster page code, and no-group list**"
      ]
    },
    {
      "cell_type": "markdown",
      "metadata": {
        "id": "PD6ITVRmsSON"
      },
      "source": [
        "The below code will produce three files:\n",
        "*   **{courseRubric}_groupRosterCanvas.csv:** Import this file to Canvas from People -> Project Groups -> +Import.\n",
        "*   **{courseRubric}_noGroup.csv:** This file contains a list of students without a group. Students in this list are either on Canvas but not in group list,  or in group list but not on Canvas. Add the list to the [No Group List](https://uofi.app.box.com/file/1827122181395?s=nnjo67e23mtsityg8wfd6ew861koeebu) master sheet so the SAS team can verify their status.\n",
        "*  **{courseRubric}_roster.txt:** This file contains HTML code that will be used for the Course Groups page on Canvas.\n",
        " * First, open an empty page in your own sandbox, and switch to the html editor. <img src='https://drive.google.com/uc?id=1G6Z0YTUsXef5uCqBQ3HfJKLqhYPyuKkQ'>\n",
        " * Paste the code into the editor, and click the button again to switch back to the rich text editor.\n",
        " * Copy the content and paste it onto the Course Roster page."
      ]
    },
    {
      "cell_type": "code",
      "execution_count": null,
      "metadata": {
        "id": "gjRMy2G4tdEd"
      },
      "outputs": [],
      "source": [
        "groupList = pd.read_excel(groupList_filename, sheet_name=courseRubric).dropna(how=\"all\")\n",
        "groupList[\"NetId\"] = groupList[\"NetId\"].str.lower()\n",
        "groupRosterCanvas = pd.read_csv(groupRosterCanvas_filename)\n",
        "\n",
        "for idx, row in groupRosterCanvas.iterrows():\n",
        "    user_id = row[\"user_id\"].lower()\n",
        "    if user_id in groupList[\"NetId\"].values:\n",
        "        groupName = groupList.loc[groupList[\"NetId\"] == user_id, \"Group Name\"].values[0]\n",
        "        groupRosterCanvas.loc[idx,\"group_name\"]=str(groupName)\n",
        "\n",
        "\n",
        "roster_not_in_group = groupRosterCanvas[~groupRosterCanvas[\"user_id\"].str.lower().isin(groupList[\"NetId\"].str.lower())][[\"user_id\"]].rename(columns={\"user_id\": \"NetId\"})\n",
        "roster_not_in_group[\"source\"] = \"In Canvas roster, not in group list\"\n",
        "group_not_in_roster = groupList[~groupList[\"NetId\"].str.lower().isin(groupRosterCanvas[\"user_id\"].str.lower())][['NetId']]\n",
        "group_not_in_roster[\"source\"] = \"In group list, not in Canvas roster\"\n",
        "non_enrollment = pd.concat([roster_not_in_group, group_not_in_roster], ignore_index=True)\n",
        "groupRosterCanvas = groupRosterCanvas.dropna(subset=[\"group_name\"])\n",
        "\n",
        "groupRosterCanvas.to_csv(f\"{courseRubric}_groupRosterCanvas.csv\", index=False)\n",
        "files.download(f\"{courseRubric}_groupRosterCanvas.csv\")\n",
        "\n",
        "non_enrollment.to_csv(f\"{courseRubric}_noGroup.csv\", index=False)\n",
        "files.download(f\"{courseRubric}_noGroup.csv\")\n",
        "\n",
        "# read profile data from google spreadsheet\n",
        "auth.authenticate_user()\n",
        "creds, _ = default()\n",
        "gc = gspread.authorize(creds)\n",
        "# https://docs.google.com/spreadsheets/d/1aXRQlU-B21AjGp4_ZfAr3p7_Lxxz2Fm-ZYL42hdQRm0/edit?gid=858321946#gid=858321946\n",
        "spreadsheet = gc.open_by_key('1aXRQlU-B21AjGp4_ZfAr3p7_Lxxz2Fm-ZYL42hdQRm0')\n",
        "# Below is a copy of the profile form in my Google Drive for testing purpose\n",
        "# spreadsheet = gc.open_by_key('1XUppv1dkE8cCoB80IaPp_qg19VrD-mPi0vGc1M4_EIk')\n",
        "worksheet = spreadsheet.get_worksheet(0)\n",
        "profileForm = pd.DataFrame(worksheet.get())\n",
        "profileForm.columns = profileForm.iloc[0]\n",
        "profileForm = profileForm.drop(0)\n",
        "\n",
        "studentlist = groupList['NetId']\n",
        "filtered_profile = profileForm[profileForm.iloc[:,3].isin(studentlist)].iloc[:, [3, -1]]\n",
        "filtered_profile.columns=[\"user_id\", \"linkedin\"]\n",
        "filtered_profile = filtered_profile.drop_duplicates(subset='user_id', keep=\"last\")\n",
        "\n",
        "groupRosterCanvas[\"full_name\"] = groupRosterCanvas[\"name\"].apply(lambda x: ' '.join(x.split(', ')[::-1]) if pd.notna(x) else x)\n",
        "groupRosterCanvas = groupRosterCanvas.merge(filtered_profile, on=\"user_id\", how=\"left\")\n",
        "groupRosterCanvas = groupRosterCanvas.merge(groupList[['NetId','Illinois Email']],left_on='user_id', right_on='NetId', how='left')\n",
        "if \"Matching Times\" in groupList:\n",
        "  groupRosterCanvas = groupRosterCanvas.merge(groupList[['NetId','Matching Times']],left_on='user_id', right_on='NetId', how='left')\n",
        "\n",
        "def missinglink(linkedin, full_name):\n",
        "    fullName = f\"{full_name}\"\n",
        "    if pd.isna(linkedin) or linkedin.strip() == \"\":\n",
        "        return \" \"\n",
        "    elif \"https://\" not in linkedin:\n",
        "        return f'<a href=\"https://{linkedin}\"><img src=\"http://i.imgur.com/Z9pDAGI.png\" alt=\"LinkedIn profile for {fullName}\" height=\"15px\" width=\"15px\" margin=\"1px\" /></a> '\n",
        "    else:\n",
        "        return f'<a href=\"{linkedin}\"><img src=\"http://i.imgur.com/Z9pDAGI.png\" alt=\"LinkedIn profile for {fullName}\" height=\"15px\" width=\"15px\" margin=\"1px\" /></a> '\n",
        "\n",
        "\n",
        "groups = groupRosterCanvas.groupby(\"group_name\")\n",
        "\n",
        "\n",
        "html_filename = f\"{courseRubric}_roster.txt\"\n",
        "with open(html_filename, \"w\", encoding=\"utf-8\") as outfile:\n",
        "    for group_name, students in groups:\n",
        "        outfile.write(f\"<h2>Group {group_name}</h2>\\n<ul>\")\n",
        "        if \"Matching Times\" in groupList:\n",
        "          outfile.write(f\"<p>Suggested Meeting Times: {groups.get_group(group_name)['Matching Times'].iloc[0]}</p>\")\n",
        "        for i, (_, student) in enumerate(students.iterrows()):\n",
        "            full_name = student[\"full_name\"]\n",
        "            email = student[\"Illinois Email\"]\n",
        "            #email=student['user_id']+\"@illinois.edu\"\n",
        "            linkedin = student[\"linkedin\"] if \"linkedin\" in student else \"\"\n",
        "            linkedin = missinglink(linkedin, full_name)\n",
        "            nameline = f\"{full_name} \"\n",
        "            # emailline = f'<a href=\"mailto:{email}\">{email}</a>, \\n'\n",
        "            comma = \", \" if i < len(students) - 1 else \"\"\n",
        "            studenthtml = f\"{full_name} {linkedin} <a href='mailto:{email}'>{email}</a>{comma} \"\n",
        "            outfile.write(f'<li style=\"display: inline;\">{studenthtml}</li>\\n')\n",
        "        outfile.write(\"</ul>\\n\")\n",
        "\n",
        "    # outfile.write(\"</body>\\n</html>\")\n",
        "\n",
        "files.download(html_filename)\n"
      ]
    },
    {
      "cell_type": "markdown",
      "metadata": {
        "id": "Cv26bURf9y0X"
      },
      "source": [
        "# Teammate Evaluation Comments"
      ]
    },
    {
      "cell_type": "markdown",
      "metadata": {
        "id": "r6pDjLoN-URN"
      },
      "source": []
    }
  ],
  "metadata": {
    "colab": {
      "provenance": [],
      "include_colab_link": true
    },
    "kernelspec": {
      "display_name": "Python 3",
      "name": "python3"
    },
    "language_info": {
      "name": "python"
    }
  },
  "nbformat": 4,
  "nbformat_minor": 0
}